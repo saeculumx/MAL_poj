{
 "cells": [
  {
   "cell_type": "code",
   "execution_count": 2,
   "id": "b26dae0f",
   "metadata": {},
   "outputs": [],
   "source": [
    "%matplotlib inline\n",
    "\n",
    "from tensorflow.keras.models import Sequential\n",
    "from tensorflow.keras.layers import Dense, Conv2D, MaxPooling2D, Flatten\n",
    "from tensorflow.keras.utils import to_categorical\n",
    "from tensorflow.keras import optimizers\n",
    "\n",
    "import matplotlib.pyplot as plt\n",
    "import numpy as np\n",
    "\n",
    "\n",
    "from sklearn.model_selection import train_test_split\n",
    "from sklearn.datasets import load_digits\n",
    "\n",
    "import tensorflow as tf\n",
    "from numpy.random import seed"
   ]
  },
  {
   "cell_type": "markdown",
   "id": "87ac7ab7",
   "metadata": {},
   "source": [
    "# Getting the data"
   ]
  },
  {
   "cell_type": "code",
   "execution_count": 3,
   "id": "39c71894",
   "metadata": {},
   "outputs": [],
   "source": [
    "digits = load_digits()"
   ]
  },
  {
   "cell_type": "markdown",
   "id": "93fce474",
   "metadata": {},
   "source": [
    "See the notebook for lecture 8 for an exploration of this dataset."
   ]
  },
  {
   "cell_type": "code",
   "execution_count": 4,
   "id": "dd283de5",
   "metadata": {},
   "outputs": [],
   "source": [
    "X = digits.data\n",
    "y = digits.target\n",
    "Y = to_categorical(y, 10)\n",
    "X = X.reshape([-1, 8, 8, 1])\n",
    "\n",
    "X_train, X_test, Y_train, Y_test = train_test_split(X, Y, stratify = Y)"
   ]
  },
  {
   "cell_type": "markdown",
   "id": "d46a239d",
   "metadata": {},
   "source": [
    "# Training the neural network"
   ]
  },
  {
   "cell_type": "code",
   "execution_count": 5,
   "id": "637eaea9",
   "metadata": {},
   "outputs": [
    {
     "name": "stdout",
     "output_type": "stream",
     "text": [
      "Epoch 1/10\n",
      "19/19 [==============================] - 1s 9ms/step - loss: 1.7183 - accuracy: 0.4883 - val_loss: 0.5456 - val_accuracy: 0.8815\n",
      "Epoch 2/10\n",
      "19/19 [==============================] - 0s 2ms/step - loss: 0.3830 - accuracy: 0.9161 - val_loss: 0.3214 - val_accuracy: 0.9383\n",
      "Epoch 3/10\n",
      "19/19 [==============================] - 0s 2ms/step - loss: 0.2328 - accuracy: 0.9639 - val_loss: 0.2808 - val_accuracy: 0.9309\n",
      "Epoch 4/10\n",
      "19/19 [==============================] - 0s 3ms/step - loss: 0.1611 - accuracy: 0.9777 - val_loss: 0.2210 - val_accuracy: 0.9432\n",
      "Epoch 5/10\n",
      "19/19 [==============================] - 0s 2ms/step - loss: 0.1276 - accuracy: 0.9894 - val_loss: 0.1893 - val_accuracy: 0.9531\n",
      "Epoch 6/10\n",
      "19/19 [==============================] - 0s 2ms/step - loss: 0.1022 - accuracy: 0.9883 - val_loss: 0.1831 - val_accuracy: 0.9506\n",
      "Epoch 7/10\n",
      "19/19 [==============================] - 0s 2ms/step - loss: 0.0890 - accuracy: 0.9915 - val_loss: 0.1765 - val_accuracy: 0.9556\n",
      "Epoch 8/10\n",
      "19/19 [==============================] - 0s 2ms/step - loss: 0.0774 - accuracy: 0.9958 - val_loss: 0.1700 - val_accuracy: 0.9580\n",
      "Epoch 9/10\n",
      "19/19 [==============================] - 0s 2ms/step - loss: 0.0664 - accuracy: 0.9947 - val_loss: 0.1619 - val_accuracy: 0.9605\n",
      "Epoch 10/10\n",
      "19/19 [==============================] - 0s 2ms/step - loss: 0.0582 - accuracy: 0.9968 - val_loss: 0.1613 - val_accuracy: 0.9556\n"
     ]
    }
   ],
   "source": [
    "seed(0)\n",
    "tf.random.set_seed(0)\n",
    "\n",
    "model = Sequential()\n",
    "model.add(Conv2D(32, (3,3), activation = 'tanh', input_shape = X_train[0].shape)) \n",
    "#32 feature maps, 3-by-3 local receptive fields\n",
    "model.add(MaxPooling2D(pool_size = (2,2))) #pooling layer\n",
    "model.add(Flatten())\n",
    "model.add(Dense(units = 10, activation = 'softmax')) #output layer\n",
    "\n",
    "sgd = optimizers.SGD(learning_rate = 0.1)\n",
    "model.compile(loss='categorical_crossentropy', optimizer = sgd, metrics = ['accuracy'])\n",
    "\n",
    "history = model.fit(X_train, Y_train, epochs = 10, batch_size = 50, validation_split = 0.3, verbose = 1)"
   ]
  },
  {
   "cell_type": "markdown",
   "id": "cda75fdb",
   "metadata": {},
   "source": [
    "# Evaluate the model"
   ]
  },
  {
   "cell_type": "code",
   "execution_count": 6,
   "id": "c5b8ef39",
   "metadata": {},
   "outputs": [
    {
     "name": "stdout",
     "output_type": "stream",
     "text": [
      "15/15 [==============================] - 0s 779us/step - loss: 0.0994 - accuracy: 0.9800\n",
      "Accuracy on test data: [0.0993817150592804, 0.9800000190734863]\n"
     ]
    }
   ],
   "source": [
    "print(\"Accuracy on test data: {}\".format(model.evaluate(X_test, Y_test)))"
   ]
  },
  {
   "cell_type": "code",
   "execution_count": 7,
   "id": "23df5502",
   "metadata": {},
   "outputs": [
    {
     "data": {
      "text/plain": "Text(0, 0.5, 'Accuracy')"
     },
     "execution_count": 7,
     "metadata": {},
     "output_type": "execute_result"
    },
    {
     "data": {
      "text/plain": "<Figure size 432x288 with 1 Axes>",
      "image/png": "[encoded data removed]"
     },
     "metadata": {
      "needs_background": "light"
     },
     "output_type": "display_data"
    }
   ],
   "source": [
    "steps = len(history.history['accuracy'])\n",
    "plt.plot(np.arange(steps), history.history['accuracy'], label = 'Train')\n",
    "plt.plot(np.arange(steps), history.history['val_accuracy'], label = 'Validation')\n",
    "plt.legend()\n",
    "plt.xlabel('Steps')\n",
    "plt.ylabel('Accuracy')"
   ]
  },
  {
   "cell_type": "code",
   "execution_count": 7,
   "id": "15be35ff",
   "metadata": {},
   "outputs": [],
   "source": []
  }
 ],
 "metadata": {
  "kernelspec": {
   "display_name": "Python 3 (ipykernel)",
   "language": "python",
   "name": "python3"
  },
  "language_info": {
   "codemirror_mode": {
    "name": "ipython",
    "version": 3
   },
   "file_extension": ".py",
   "mimetype": "text/x-python",
   "name": "python",
   "nbconvert_exporter": "python",
   "pygments_lexer": "ipython3",
   "version": "3.9.12"
  }
 },
 "nbformat": 4,
 "nbformat_minor": 5
}