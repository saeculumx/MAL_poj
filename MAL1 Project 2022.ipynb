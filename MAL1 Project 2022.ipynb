{
 "cells": [
  {
   "cell_type": "markdown",
   "metadata": {},
   "source": [
    "# Machine Learning Project"
   ]
  },
  {
   "cell_type": "code",
   "execution_count": 149,
   "metadata": {},
   "outputs": [],
   "source": [
    "# Student names and numbers:"
   ]
  },
  {
   "cell_type": "markdown",
   "metadata": {},
   "source": [
    "The assignments below should be solved and documented as a project that will form the basis for the\n",
    "examination. When solving the exercises it is important that you\n",
    "\n",
    "  * document all relevant results and analyses that you have obtained/performed during the exercises.\n",
    "  * try to relate your results to the theoretical background of the methods being applied.\n",
    "\n",
    "Feel free to add cells if you need to.\n",
    "\n",
    "Please hand in assignment 1-6 in a _**single**_ Jupyter notebook where you retain the questions outlined below. You are welcome to adapt code from the web (e.g. Kaggle kernels), but you **_must_** reference the original source in your notebook. In addition to _clean, well-documented code_ (i.e. functions with <a href=\"https://www.geeksforgeeks.org/python-docstrings/\">docstrings</a>, etc), your notebook will be judged according to how well each step is explained (using Markdown). \n",
    "\n",
    "In general, direct questions regarding assignments 1, 4, 5 and 6 to Frederik, and questions regarding assignments 2, 3, and 7 to Richard. \n",
    "\n",
    "Last, but not least:\n",
    "* Looking for an overview of the markdown language? The cheat sheet <a href=\"https://medium.com/ibm-data-science-experience/markdown-for-jupyter-notebooks-cheatsheet-386c05aeebed\">here</a> might help.\n",
    "* For the Python specific components of the exercises, you should not need constructs beyond those that are already included in the notebooks on the course's web-page (still you should not feel constrained by these, so feel free to be adventurous). You may, however, need to consult the documentation for some of the methods supplied by `sklearn`.\n",
    "\n",
    "**Groups:** Create your own groups. May be across teams. 2-4 students per group. No one-person groups.\n",
    "\n",
    "\n",
    "**Submission deadline:** Thursday, December 15 before 13.00 CET (Notebooks + presentation recording)\n",
    "\n",
    "**Expected workload:** Each student is expected to spend around around 50 hours on the project.\n",
    "\n",
    "### Deliverables\n",
    "The teams have to submit three deliverables before the submission deadline: 1) a notebook of assignments 1-6, 2) a notebook of assignment 7, and 3) presentation video uploaded to some online platform e.g. YouTube, Vimeo, etc.\n",
    "\n",
    "#### Notebook\n",
    "The notebook contains all the code to explore the dataset, train the final model and documents each step clearly. If code is copied from another codebase such as Github or Stack Overflow it **_must_** be properly referenced.\n",
    "\n",
    "\n",
    "#### Presentation\n",
    "The presentation video should be 15 min long and should highlight the problem you are solving, interesting things you found in the data and the step involved in building up your model. At the exam we will discuss the presentation and ask questions about your project and submissions. A link to the video must be placed in the notebook for assignment 7.\n",
    "\n",
    "### Randomness\n",
    "For ALL random states, choose state = 69 so we can replicate your work.\n"
   ]
  },
  {
   "cell_type": "code",
   "execution_count": 150,
   "metadata": {},
   "outputs": [],
   "source": [
    "# Import all necessary modules here:\n",
    "% matplotlib inline"
   ]
  },
  {
   "cell_type": "markdown",
   "metadata": {},
   "source": [
    "## 1. The IceCat Dataset\n",
    "\n",
    "__You should be able to do this exercise after Lecture 3.__"
   ]
  },
  {
   "cell_type": "markdown",
   "metadata": {},
   "source": [
    "The IceCat Dataset, kindly provided to us by Stibo Systems, contains a large amount of data on different office products. As an example of \"real-world\" data, these data are imperfect and incomplete. As such, this exercise is not so much an exercise in creating a good machine learning model, but places a larger emphasis on \"cleaning the data\".\n",
    "\n",
    "We are going to work with a subset of the IceCat Dataset. In particular, you will be provided with a zip file of 5,854 images of office products, each with the name \"product ID\".jpg. You will also be provided with a list of colors, `colors.txt`, which, when imported using the code below, is a list of tuples of the form `[(\"product ID\", \"color\"), ...]`. (The code below assumes that `colors.txt` is in the same folder as the jupyter notebook. Feel free to change the code if you prefer a different organization of your files)."
   ]
  },
  {
   "cell_type": "code",
   "execution_count": 150,
   "metadata": {},
   "outputs": [],
   "source": []
  },
  {
   "cell_type": "markdown",
   "metadata": {},
   "source": [
    "Your task is to clean up the data and construct a simple machine learning model (_e.g._, _k_-nearest neighbor) that can identify the color of a product. You have free hands - there is hardly any one \"correct answer\" - but you need to argue for your choices. Among other things, you probably need to think about the following as you work with the data:\n",
    "\n",
    "* All of the images have different sizes.\n",
    "\n",
    "* Some of the images are RGB images (3 layers), others are CMYK (4 layers), some might even be black-and-white (1 layer).\n",
    "\n",
    "* Some colors are only represented by very few products.\n",
    "\n",
    "* Some colors are very similar, such as \"Purple\" and \"Violet\".\n",
    "\n",
    "* A product may have a particular color, but a packaging of a different color. Similarly, the color of, say, a computer monitor may be black, while the image of it could show a monitor that is turned on with a green screensaver.\n",
    "\n",
    "* Many products are attributed to several colors, such as \"Black, Blue\" or even \"Blue, Green, Orange, Violet, Yellow\". Yet others are described as \"Multicolor\" or \"Assorted colors\".\n",
    "\n",
    "Again, you have free hands in how you are going to solve these (and other) challenges, but you must argue for and reflect on your choices as you progress."
   ]
  },
  {
   "cell_type": "markdown",
   "metadata": {},
   "source": [
    "## 2. Flights Departing from NYC\n",
    "\n",
    "__You should be able to do this exercise after Lecture 4.__"
   ]
  },
  {
   "cell_type": "markdown",
   "metadata": {},
   "source": [
    "For this exercise we will be using the famous nycflights13 data which contains the `airlines`, `airports`, `flights`, `planes`, and `weather` datasets. Please see the documentation (`nycflights13.pdf`) for further information."
   ]
  },
  {
   "cell_type": "markdown",
   "metadata": {},
   "source": [
    "**(a)** Load all files as pandas dataframes and display the first 5 rows of each dataset."
   ]
  },
  {
   "cell_type": "code",
   "execution_count": 151,
   "outputs": [
    {
     "name": "stdout",
     "output_type": "stream",
     "text": [
      "  carrier                    name\n",
      "0      9E       Endeavor Air Inc.\n",
      "1      AA  American Airlines Inc.\n",
      "2      AS    Alaska Airlines Inc.\n",
      "3      B6         JetBlue Airways\n",
      "4      DL    Delta Air Lines Inc.    faa                           name        lat        lon   alt   tz dst  \\\n",
      "0  04G              Lansdowne Airport  41.130472 -80.619583  1044 -5.0   A   \n",
      "1  06A  Moton Field Municipal Airport  32.460572 -85.680028   264 -6.0   A   \n",
      "2  06C            Schaumburg Regional  41.989341 -88.101243   801 -6.0   A   \n",
      "3  06N                Randall Airport  41.431912 -74.391561   523 -5.0   A   \n",
      "4  09J          Jekyll Island Airport  31.074472 -81.427778    11 -5.0   A   \n",
      "\n",
      "              tzone  \n",
      "0  America/New_York  \n",
      "1   America/Chicago  \n",
      "2   America/Chicago  \n",
      "3  America/New_York  \n",
      "4  America/New_York      year  month  day  dep_time  dep_delay  arr_time  arr_delay carrier tailnum  \\\n",
      "0  2013      1    1     517.0        2.0     830.0       11.0      UA  N14228   \n",
      "1  2013      1    1     533.0        4.0     850.0       20.0      UA  N24211   \n",
      "2  2013      1    1     542.0        2.0     923.0       33.0      AA  N619AA   \n",
      "3  2013      1    1     554.0       -6.0     812.0      -25.0      DL  N668DN   \n",
      "4  2013      1    1     554.0       -4.0     740.0       12.0      UA  N39463   \n",
      "\n",
      "   flight origin dest  air_time  distance  hour  minute  \n",
      "0    1545    EWR  IAH     227.0      1400   5.0    17.0  \n",
      "1    1714    LGA  IAH     227.0      1416   5.0    33.0  \n",
      "2    1141    JFK  MIA     160.0      1089   5.0    42.0  \n",
      "3     461    LGA  ATL     116.0       762   5.0    54.0  \n",
      "4    1696    EWR  ORD     150.0       719   5.0    54.0     tailnum    year                     type      manufacturer      model  \\\n",
      "0  N10156  2004.0  Fixed wing multi engine           EMBRAER  EMB-145XR   \n",
      "1  N102UW  1998.0  Fixed wing multi engine  AIRBUS INDUSTRIE   A320-214   \n",
      "2  N103US  1999.0  Fixed wing multi engine  AIRBUS INDUSTRIE   A320-214   \n",
      "3  N104UW  1999.0  Fixed wing multi engine  AIRBUS INDUSTRIE   A320-214   \n",
      "4  N10575  2002.0  Fixed wing multi engine           EMBRAER  EMB-145LR   \n",
      "\n",
      "   engines  seats  speed     engine  \n",
      "0        2     55    NaN  Turbo-fan  \n",
      "1        2    182    NaN  Turbo-fan  \n",
      "2        2    182    NaN  Turbo-fan  \n",
      "3        2    182    NaN  Turbo-fan  \n",
      "4        2     55    NaN  Turbo-fan     origin  year  month  day  hour   temp   dewp  humid  wind_dir  wind_speed  \\\n",
      "0    EWR  2013      1    1     0  37.04  21.92  53.97     230.0    10.35702   \n",
      "1    EWR  2013      1    1     1  37.04  21.92  53.97     230.0    13.80936   \n",
      "2    EWR  2013      1    1     2  37.94  21.92  52.09     230.0    12.65858   \n",
      "3    EWR  2013      1    1     3  37.94  23.00  54.51     230.0    13.80936   \n",
      "4    EWR  2013      1    1     4  37.94  24.08  57.04     240.0    14.96014   \n",
      "\n",
      "   wind_gust  precip  pressure  visib             time_hour  \n",
      "0  11.918651     0.0    1013.9   10.0  2013-01-01T00:00:00Z  \n",
      "1  15.891535     0.0    1013.0   10.0  2013-01-01T01:00:00Z  \n",
      "2  14.567241     0.0    1012.6   10.0  2013-01-01T02:00:00Z  \n",
      "3  15.891535     0.0    1012.7   10.0  2013-01-01T03:00:00Z  \n",
      "4  17.215830     0.0    1012.8   10.0  2013-01-01T04:00:00Z  \n"
     ]
    }
   ],
   "source": [
    "import itertools\n",
    "\n",
    "import pandas as pd\n",
    "import statsmodels.regression.linear_model\n",
    "from sklearn.preprocessing import scale\n",
    "from sklearn.model_selection import train_test_split\n",
    "from sklearn.linear_model import LinearRegression\n",
    "from sklearn.neighbors import KNeighborsRegressor\n",
    "\n",
    "df_airline = pd.read_csv(\"2 Flights Departing from NYC/airlines.csv\")\n",
    "df_airport = pd.read_csv(\"2 Flights Departing from NYC/airports.csv\")\n",
    "df_flights = pd.read_csv(\"2 Flights Departing from NYC/flights.csv\")\n",
    "df_planes = pd.read_csv(\"2 Flights Departing from NYC/planes.csv\")\n",
    "df_weather = pd.read_csv(\"2 Flights Departing from NYC/weather.csv\")\n",
    "print(df_airline.head(5), df_airport.head(5), df_flights.head(5), df_planes.head(5), df_weather.head(5), )"
   ],
   "metadata": {
    "collapsed": false,
    "pycharm": {
     "name": "#%%\n"
    }
   }
  },
  {
   "cell_type": "markdown",
   "metadata": {},
   "source": [
    "**(b)** Convert all temperature attributes to degree Celsius. We will be using this in what follows."
   ]
  },
  {
   "cell_type": "code",
   "execution_count": 152,
   "outputs": [
    {
     "name": "stdout",
     "output_type": "stream",
     "text": [
      "0        2.8\n",
      "1        2.8\n",
      "2        3.3\n",
      "3        3.3\n",
      "4        3.3\n",
      "        ... \n",
      "26125    2.2\n",
      "26126    1.1\n",
      "26127    0.0\n",
      "26128   -0.6\n",
      "26129   -1.7\n",
      "Name: temp, Length: 26130, dtype: float64\n"
     ]
    }
   ],
   "source": [
    "temp = df_weather.loc[\"temp\"] = (df_weather[\"temp\"] - 32) * 5 / 9\n",
    "print(temp)"
   ],
   "metadata": {
    "collapsed": false,
    "pycharm": {
     "name": "#%%\n"
    }
   }
  },
  {
   "cell_type": "markdown",
   "metadata": {},
   "source": [
    "**(c)** Using OLS, investigate if flight distance is associated with arrival delay. You should be cautious regarding negative delays."
   ]
  },
  {
   "cell_type": "code",
   "execution_count": 153,
   "outputs": [
    {
     "name": "stdout",
     "output_type": "stream",
     "text": [
      "Coefficient:  [0.00071295]\n",
      "f_value:  [19.2325169]  p_value:  [1.15872123e-05]\n"
     ]
    },
    {
     "data": {
      "text/plain": "<Figure size 432x288 with 1 Axes>",
      "image/png": "[encoded data removed]"
     },
     "metadata": {
      "needs_background": "light"
     },
     "output_type": "display_data"
    },
    {
     "name": "stdout",
     "output_type": "stream",
     "text": [
      "As Coefficient -> 0, so there are no associations between arrival delay and distance\n"
     ]
    }
   ],
   "source": [
    "import numpy as np\n",
    "import statsmodels.api as sm\n",
    "import matplotlib.pyplot as plt\n",
    "from statsmodels.regression.linear_model import OLS\n",
    "from sklearn.feature_selection import f_regression\n",
    "\n",
    "distance = df_flights.loc[:, \"distance\"]\n",
    "delay = df_flights.loc[:, \"arr_delay\"]\n",
    "# print(distance,delay)\n",
    "dis_train, dis_test, del_train, del_test = train_test_split(distance, delay, test_size=0.5, random_state=1)\n",
    "dis_train = dis_train.replace((np.inf, -np.inf, np.nan), 0).reset_index(drop=True)\n",
    "del_train = del_train.replace((np.inf, -np.inf, np.nan), 0).reset_index(drop=True)\n",
    "del_train = np.where(del_train > 0, del_train, 0)\n",
    "dis_train = dis_train.values.reshape(1, -1)\n",
    "#del_train = del_train.reshape(1,-1)\n",
    "dis_train = dis_train.transpose()\n",
    "del_train = np.array(del_train)\n",
    "\n",
    "# dis_train_s = sm.add_constant(dis_train)\n",
    "# results = OLS(del_train,dis_train_s).fit()\n",
    "# print(results.params)\n",
    "\n",
    "model = LinearRegression()\n",
    "model.fit(dis_train, del_train)\n",
    "print(\"Coefficient: \", model.coef_)\n",
    "F, pval = f_regression(dis_train, del_train)\n",
    "print(\"f_value: \", F, \" p_value: \", pval)\n",
    "\n",
    "x_pred = np.arange(1, 5000).reshape(-1, 1)\n",
    "y_pred = model.predict(x_pred)\n",
    "\n",
    "# plt.scatter(x_pred,y_pred)\n",
    "plt.plot(x_pred, y_pred, color=\"red\")\n",
    "plt.scatter(dis_train, del_train)\n",
    "# plt.plot(dis_train,del_train, color = \"red\")\n",
    "plt.xticks()\n",
    "plt.yticks()\n",
    "plt.show()\n",
    "\n",
    "print(\"As Coefficient -> 0, so there are no associations between arrival delay and distance\")"
   ],
   "metadata": {
    "collapsed": false,
    "pycharm": {
     "name": "#%%\n"
    }
   }
  },
  {
   "cell_type": "markdown",
   "metadata": {},
   "source": [
    "**(d)** Using OLS, investigate if departure delay is associated with arrival delay. Again,\n",
    "   consider what to do with negative delays."
   ]
  },
  {
   "cell_type": "code",
   "execution_count": 154,
   "outputs": [
    {
     "name": "stdout",
     "output_type": "stream",
     "text": [
      "Coefficient:  [0.91908523]\n",
      "f_value:  [246719.51451607]  p_value:  [0.]\n"
     ]
    },
    {
     "data": {
      "text/plain": "<Figure size 432x288 with 1 Axes>",
      "image/png": "[encoded data removed]"
     },
     "metadata": {
      "needs_background": "light"
     },
     "output_type": "display_data"
    },
    {
     "name": "stdout",
     "output_type": "stream",
     "text": [
      "As the Coefficient suggested, there are relationship between departure delay and arrival delay\n"
     ]
    }
   ],
   "source": [
    "import numpy as np\n",
    "import matplotlib.pyplot as plt\n",
    "from statsmodels.regression.linear_model import OLS\n",
    "from sklearn.feature_selection import f_regression\n",
    "\n",
    "dep_delay = df_flights.loc[:, \"dep_delay\"]\n",
    "arr_delay = df_flights.loc[:, \"arr_delay\"]\n",
    "\n",
    "dep_train, dep_test, arr_train, arr_test = train_test_split(dep_delay, arr_delay, test_size=0.75, random_state=1)\n",
    "\n",
    "dep_train = dep_train.replace((np.inf, -np.inf, np.nan), 0).reset_index(drop=True)\n",
    "arr_train = arr_train.replace((np.inf, -np.inf, np.nan), 0).reset_index(drop=True)\n",
    "\n",
    "arr_train = np.where(arr_train > 0, arr_train, 0)\n",
    "dep_train = np.where(dep_train > 0, dep_train, 0)\n",
    "\n",
    "arr_train = arr_train.reshape(1, -1)\n",
    "arr_train = arr_train.transpose()\n",
    "model = LinearRegression()\n",
    "model.fit(arr_train, dep_train)\n",
    "print(\"Coefficient: \", model.coef_)\n",
    "F, pval = f_regression(arr_train, dep_train)\n",
    "print(\"f_value: \", F, \" p_value: \", pval)\n",
    "\n",
    "x_pred = np.arange(1, 1000).reshape(-1, 1)\n",
    "y_pred = model.predict(x_pred)\n",
    "\n",
    "# plt.scatter(x_pred,y_pred)\n",
    "plt.plot(x_pred, y_pred, color=\"red\")\n",
    "plt.scatter(dep_train, arr_train)\n",
    "# plt.plot(dis_train,del_train, color = \"red\")\n",
    "plt.xticks()\n",
    "plt.yticks()\n",
    "plt.show()\n",
    "\n",
    "print(\"As the Coefficient suggested, there are relationship between departure delay and arrival delay\")"
   ],
   "metadata": {
    "collapsed": false,
    "pycharm": {
     "name": "#%%\n"
    }
   }
  },
  {
   "cell_type": "markdown",
   "metadata": {},
   "source": [
    "**(e)** Investigate whether departure delay is associated with weather conditions\n",
    "   at the origin airport. This includes descriptives, plotting, regression modelling,\n",
    "   considering missing values etc. For regression, do OLS, Ridge, Lasso, and Elastic Net.\n",
    "   The analysis should also include seasonality trends as a \"weather condition\". You could,\n",
    "   for instance, plot the daily departure delay with the date (or monthly). What are the\n",
    "   three most important weather conditions when trying to predict departure delays?"
   ]
  },
  {
   "cell_type": "code",
   "execution_count": 179,
   "outputs": [
    {
     "name": "stdout",
     "output_type": "stream",
     "text": [
      "EWR 7561\n",
      "JFK 7836\n",
      "LGA 7624\n",
      "TOL_W 23021 TOL_D 23021\n",
      "EWR_F 58194\n",
      "EXP Hour 24 Replace as 2013-06-18 00:00:00\n",
      "JFK_F 41601\n",
      "EXP Hour 24 Replace as 2013-12-30 00:00:00\n",
      "EXP Hour 24 Replace as 2013-07-08 00:00:00\n",
      "EXP Hour 24 Replace as 2013-07-29 00:00:00\n",
      "EXP Hour 24 Replace as 2013-09-13 00:00:00\n",
      "LGA_F 58132\n",
      "TOL_F 157927 TOL_D 157927\n",
      "Delay inspect(E/L/J/A):  58194 58132 41601 157927\n",
      "df/delay len of EWR 47821 47821\n",
      "Mean of delay:  12.690638004224086\n",
      "(23910, 1)\n",
      "(23911, 1)\n",
      "score_train 0.0010836157980976813 | score_test 0.0015899694508912932\n",
      "coefficients [0.06047026] | intercept 9.262614229761905\n"
     ]
    },
    {
     "data": {
      "text/plain": "<Figure size 432x288 with 1 Axes>",
      "image/png": "[encoded data removed]"
     },
     "metadata": {
      "needs_background": "light"
     },
     "output_type": "display_data"
    },
    {
     "name": "stdout",
     "output_type": "stream",
     "text": [
      "(23910, 1)\n",
      "(23911, 1)\n",
      "score_train 0.0018146098872448002 | score_test 0.002439244009285746\n",
      "coefficients [0.07448573] | intercept 9.634337964635716\n"
     ]
    },
    {
     "data": {
      "text/plain": "<Figure size 432x288 with 1 Axes>",
      "image/png": "[encoded data removed]"
     },
     "metadata": {
      "needs_background": "light"
     },
     "output_type": "display_data"
    },
    {
     "name": "stdout",
     "output_type": "stream",
     "text": [
      "(23910, 1)\n",
      "(23911, 1)\n",
      "score_train 0.0008551832158857353 | score_test 0.0007319272637534846\n",
      "coefficients [0.05535823] | intercept 9.398057030472003\n"
     ]
    },
    {
     "data": {
      "text/plain": "<Figure size 432x288 with 1 Axes>",
      "image/png": "[encoded data removed]"
     },
     "metadata": {
      "needs_background": "light"
     },
     "output_type": "display_data"
    },
    {
     "name": "stdout",
     "output_type": "stream",
     "text": [
      "(23910, 1)\n",
      "(23911, 1)\n",
      "score_train 8.201047978562137e-05 | score_test 1.6720094407896013e-05\n",
      "coefficients [-0.00282042] | intercept 13.203780229911635\n"
     ]
    },
    {
     "data": {
      "text/plain": "<Figure size 432x288 with 1 Axes>",
      "image/png": "[encoded data removed]"
     },
     "metadata": {
      "needs_background": "light"
     },
     "output_type": "display_data"
    },
    {
     "name": "stdout",
     "output_type": "stream",
     "text": [
      "(23910, 1)\n",
      "(23911, 1)\n",
      "score_train 0.00017882951804304437 | score_test -0.0003039167726155423\n",
      "coefficients [-0.08530578] | intercept 13.458356573109263\n"
     ]
    },
    {
     "data": {
      "text/plain": "<Figure size 432x288 with 1 Axes>",
      "image/png": "[encoded data removed]"
     },
     "metadata": {
      "needs_background": "light"
     },
     "output_type": "display_data"
    },
    {
     "name": "stdout",
     "output_type": "stream",
     "text": [
      "(23910, 1)\n",
      "(23911, 1)\n",
      "score_train 0.0001788295180431554 | score_test -0.0003039167726155423\n",
      "coefficients [-0.07412866] | intercept 13.458356573109283\n"
     ]
    },
    {
     "data": {
      "text/plain": "<Figure size 432x288 with 1 Axes>",
      "image/png": "[encoded data removed]"
     },
     "metadata": {
      "needs_background": "light"
     },
     "output_type": "display_data"
    },
    {
     "name": "stdout",
     "output_type": "stream",
     "text": [
      "(23910, 1)\n",
      "(23911, 1)\n",
      "score_train 0.00015642988108166556 | score_test 0.00023750231972252678\n",
      "coefficients [157.86297926] | intercept 12.591187947888947\n"
     ]
    },
    {
     "data": {
      "text/plain": "<Figure size 432x288 with 1 Axes>",
      "image/png": "[encoded data removed]"
     },
     "metadata": {
      "needs_background": "light"
     },
     "output_type": "display_data"
    },
    {
     "name": "stdout",
     "output_type": "stream",
     "text": [
      "(23910, 1)\n",
      "(23911, 1)\n",
      "score_train 4.598770924069129e-06 | score_test 1.8102354697568934e-05\n",
      "coefficients [0.01006388] | intercept 2.3996905262336554\n"
     ]
    },
    {
     "data": {
      "text/plain": "<Figure size 432x288 with 1 Axes>",
      "image/png": "[encoded data removed]"
     },
     "metadata": {
      "needs_background": "light"
     },
     "output_type": "display_data"
    },
    {
     "name": "stdout",
     "output_type": "stream",
     "text": [
      "(23910, 1)\n",
      "(23911, 1)\n",
      "score_train 0.0001349421675208573 | score_test -0.00015022202122660921\n",
      "coefficients [-0.50497705] | intercept 17.58528163346806\n"
     ]
    },
    {
     "data": {
      "text/plain": "<Figure size 432x288 with 1 Axes>",
      "image/png": "[encoded data removed]"
     },
     "metadata": {
      "needs_background": "light"
     },
     "output_type": "display_data"
    }
   ],
   "source": [
    "import datetime\n",
    "from scipy import stats\n",
    "# weather time list processing\n",
    "EWR_weather_time_list = []\n",
    "JFK_weather_time_list = []\n",
    "LGA_weather_time_list = []\n",
    "df_weather = df_weather.dropna()\n",
    "w_EWR = df_weather.loc[df_weather[\"origin\"] == \"EWR\"]\n",
    "w_JFK = df_weather.loc[df_weather[\"origin\"] == \"JFK\"]\n",
    "w_LGA = df_weather.loc[df_weather[\"origin\"] == \"LGA\"]\n",
    "EWR_weather = w_EWR.loc[:, \"time_hour\"]\n",
    "JFK_weather = w_JFK.loc[:, \"time_hour\"]\n",
    "LGA_weather = w_LGA.loc[:, \"time_hour\"]\n",
    "origin_list = [EWR_weather, JFK_weather, LGA_weather]\n",
    "for w in EWR_weather:\n",
    "    wd = datetime.datetime.strptime(w, \"%Y-%m-%dT%H:%M:%S%z\")\n",
    "    EWR_weather_time_list.append(wd)\n",
    "print(\"EWR\", len(EWR_weather_time_list))\n",
    "for w in JFK_weather:\n",
    "    wd = datetime.datetime.strptime(w, \"%Y-%m-%dT%H:%M:%S%z\")\n",
    "    JFK_weather_time_list.append(wd)\n",
    "print(\"JFK\", len(JFK_weather_time_list))\n",
    "for w in LGA_weather:\n",
    "    wd = datetime.datetime.strptime(w, \"%Y-%m-%dT%H:%M:%S%z\")\n",
    "    LGA_weather_time_list.append(wd)\n",
    "print(\"LGA\", len(LGA_weather_time_list))\n",
    "#isp process\n",
    "print(\"TOL_W\", len(EWR_weather_time_list) + len(LGA_weather_time_list) + len(JFK_weather_time_list), \"TOL_D\",\n",
    "      len(df_weather))\n",
    "\n",
    "# flight time list processing\n",
    "EWR_flight_time_list = []\n",
    "JFK_flight_time_list = []\n",
    "LGA_flight_time_list = []\n",
    "df_flights = df_flights.dropna()\n",
    "f_EWR = df_flights.loc[df_flights[\"origin\"] == \"EWR\"].reset_index()\n",
    "f_JFK = df_flights.loc[df_flights[\"origin\"] == \"JFK\"].reset_index()\n",
    "f_LGA = df_flights.loc[df_flights[\"origin\"] == \"LGA\"].reset_index()\n",
    "#delay process\n",
    "d_EWR = df_flights.loc[df_flights[\"origin\"] == \"EWR\", \"dep_delay\"]\n",
    "d_JFK = df_flights.loc[df_flights[\"origin\"] == \"JFK\", \"dep_delay\"]\n",
    "d_LGA = df_flights.loc[df_flights[\"origin\"] == \"LGA\", \"dep_delay\"]\n",
    "d_EWR = np.where(d_EWR > 0, d_EWR, 0)\n",
    "d_JFK = np.where(d_JFK > 0, d_JFK, 0)\n",
    "d_LGA = np.where(d_LGA > 0, d_LGA, 0)\n",
    "#assmble datetime\n",
    "EWR_weather_comp = f_EWR.loc[:, [\"year\", \"month\", \"day\", \"hour\", \"minute\"]].reset_index()\n",
    "JFK_weather_comp = f_JFK.loc[:, [\"year\", \"month\", \"day\", \"hour\", \"minute\"]].reset_index()\n",
    "LGA_weather_comp = f_LGA.loc[:, [\"year\", \"month\", \"day\", \"hour\", \"minute\"]].reset_index()\n",
    "#EWR\n",
    "for i in range(len(EWR_weather_comp.year)):\n",
    "    dt = datetime.datetime(int(EWR_weather_comp.year[i]), int(EWR_weather_comp.month[i]), int(EWR_weather_comp.day[i]),\n",
    "                           int(EWR_weather_comp.hour[i]), int(EWR_weather_comp.minute[i]))\n",
    "    EWR_flight_time_list.append(dt)\n",
    "print(\"EWR_F\", len(EWR_flight_time_list))\n",
    "#JFK (contains 24)\n",
    "for i in range(len(JFK_weather_comp.year)):\n",
    "    # print(int(JFK_weather_comp.hour[i]))\n",
    "    try:\n",
    "        dt = datetime.datetime(int(JFK_weather_comp.year[i]), int(JFK_weather_comp.month[i]),\n",
    "                               int(JFK_weather_comp.day[i]), int(JFK_weather_comp.hour[i]),\n",
    "                               int(JFK_weather_comp.minute[i]))\n",
    "        JFK_flight_time_list.append(dt)\n",
    "    except ValueError:\n",
    "        dt = datetime.datetime(int(JFK_weather_comp.year[i]), int(JFK_weather_comp.month[i]),\n",
    "                               int(JFK_weather_comp.day[i] + 1), 0, 0)\n",
    "        JFK_flight_time_list.append(dt)\n",
    "        print(\"EXP Hour\", int(JFK_weather_comp.hour[i]), \"Replace as\", dt)\n",
    "print(\"JFK_F\", len(JFK_flight_time_list))\n",
    "#LGA (contains 24)\n",
    "for i in range(len(LGA_weather_comp.year)):\n",
    "    try:\n",
    "        dt = datetime.datetime(int(LGA_weather_comp.year[i]), int(LGA_weather_comp.month[i]),\n",
    "                               int(LGA_weather_comp.day[i]), int(LGA_weather_comp.hour[i]),\n",
    "                               int(LGA_weather_comp.minute[i]))\n",
    "        LGA_flight_time_list.append(dt)\n",
    "    except ValueError:\n",
    "        dt = datetime.datetime(int(LGA_weather_comp.year[i]), int(LGA_weather_comp.month[i]),\n",
    "                               int(LGA_weather_comp.day[i] + 1), 0, 0)\n",
    "        LGA_flight_time_list.append(dt)\n",
    "        print(\"EXP Hour\", int(LGA_weather_comp.hour[i]), \"Replace as\", dt)\n",
    "print(\"LGA_F\", len(LGA_flight_time_list))\n",
    "#isp process\n",
    "print(\"TOL_F\", len(EWR_flight_time_list) + len(JFK_flight_time_list) + len(LGA_flight_time_list), \"TOL_D\",\n",
    "      len(df_flights))\n",
    "#isp if is indexed\n",
    "print(\"Delay inspect(E/L/J/A): \", len(d_EWR), len(d_LGA), len(d_JFK), len(d_EWR) + len(d_LGA) + len(d_JFK))\n",
    "#match weather data using flight info\n",
    "weather_EWR_flight = []\n",
    "remove_list = []\n",
    "#For EWR\n",
    "i = 0\n",
    "for dt in EWR_flight_time_list:\n",
    "    result = w_EWR.loc[(w_EWR[\"month\"] == dt.month) & (w_EWR[\"day\"] == dt.day) & (w_EWR[\"hour\"] == dt.hour),\n",
    "             \"temp\":\"visib\"]\n",
    "    if result.empty:\n",
    "        remove_list.append(i)\n",
    "        #np.put(d_EWR,[i],[0])\n",
    "        i += 1\n",
    "    else:\n",
    "        weather_EWR_flight.append(result)\n",
    "        i += 1\n",
    "d_EWR = np.delete(d_EWR, remove_list)\n",
    "weather_dataframe = pd.concat(weather_EWR_flight)\n",
    "weather_dataframe = weather_dataframe[(np.abs(stats.zscore(weather_dataframe)) < 3).all(axis=1)]\n",
    "d_EWR = d_EWR[:len(weather_dataframe)]\n",
    "print(\"df/delay len of EWR\", len(weather_dataframe), len(d_EWR))\n",
    "#Modeling for temp\n",
    "y = d_EWR\n",
    "print(\"Mean of delay: \", np.mean(d_EWR))\n",
    "X = weather_dataframe.temp\n",
    "X = X.values.reshape(-1, 1)\n",
    "X_train, X_test, y_train, y_test = train_test_split(X, y, test_size=0.5, random_state=1)\n",
    "print(X_train.shape)\n",
    "print(X_test.shape)\n",
    "OLS = LinearRegression()\n",
    "OLS.fit(X_train, y_train)\n",
    "#SCORE\n",
    "print(\"score_train {} | score_test {}\".format(OLS.score(X_train, y_train), OLS.score(X_test, y_test)))\n",
    "print(\"coefficients {} | intercept {}\".format(OLS.coef_, OLS.intercept_))\n",
    "x_pred = np.arange(0, 105).reshape(-1, 1)\n",
    "y_pred = model.predict(x_pred)\n",
    "plt.plot(x_pred, y_pred, color=\"red\")\n",
    "plt.scatter(X_test, y_test, color=\"black\")\n",
    "plt.legend([\"prediction temperature\",\"actual delay\"])\n",
    "plt.show()\n",
    "# for dewp\n",
    "X = weather_dataframe.dewp\n",
    "X = X.values.reshape(-1, 1)\n",
    "X_train, X_test, y_train, y_test = train_test_split(X, y, test_size=0.5, random_state=1)\n",
    "print(X_train.shape)\n",
    "print(X_test.shape)\n",
    "OLS = LinearRegression()\n",
    "OLS.fit(X_train, y_train)\n",
    "#SCORE\n",
    "print(\"score_train {} | score_test {}\".format(OLS.score(X_train, y_train), OLS.score(X_test, y_test)))\n",
    "print(\"coefficients {} | intercept {}\".format(OLS.coef_, OLS.intercept_))\n",
    "x_pred = np.arange(0,80).reshape(-1, 1)\n",
    "y_pred = model.predict(x_pred)\n",
    "plt.plot(x_pred, y_pred, color=\"red\")\n",
    "plt.scatter(X_test, y_test, color=\"black\")\n",
    "plt.legend([\"prediction dew point\",\"actual delay\"])\n",
    "plt.show()\n",
    "# for humid\n",
    "X = weather_dataframe.humid\n",
    "X = X.values.reshape(-1, 1)\n",
    "X_train, X_test, y_train, y_test = train_test_split(X, y, test_size=0.5, random_state=1)\n",
    "print(X_train.shape)\n",
    "print(X_test.shape)\n",
    "OLS = LinearRegression()\n",
    "OLS.fit(X_train, y_train)\n",
    "#SCORE\n",
    "print(\"score_train {} | score_test {}\".format(OLS.score(X_train, y_train), OLS.score(X_test, y_test)))\n",
    "print(\"coefficients {} | intercept {}\".format(OLS.coef_, OLS.intercept_))\n",
    "x_pred = np.arange(0,100).reshape(-1, 1)\n",
    "y_pred = model.predict(x_pred)\n",
    "plt.plot(x_pred, y_pred, color=\"red\")\n",
    "plt.scatter(X_test, y_test, color=\"black\")\n",
    "plt.legend([\"prediction humidity\",\"actual delay\"])\n",
    "plt.show()\n",
    "# for wind_dir\n",
    "X = weather_dataframe.wind_dir\n",
    "X = X.values.reshape(-1, 1)\n",
    "X_train, X_test, y_train, y_test = train_test_split(X, y, test_size=0.5, random_state=1)\n",
    "print(X_train.shape)\n",
    "print(X_test.shape)\n",
    "OLS = LinearRegression()\n",
    "OLS.fit(X_train, y_train)\n",
    "#SCORE\n",
    "print(\"score_train {} | score_test {}\".format(OLS.score(X_train, y_train), OLS.score(X_test, y_test)))\n",
    "print(\"coefficients {} | intercept {}\".format(OLS.coef_, OLS.intercept_))\n",
    "x_pred = np.arange(0,360).reshape(-1, 1)\n",
    "y_pred = model.predict(x_pred)\n",
    "plt.plot(x_pred, y_pred, color=\"red\")\n",
    "plt.scatter(X_test, y_test, color=\"black\")\n",
    "plt.legend([\"prediction wind direction\",\"actual delay\"])\n",
    "plt.show()\n",
    "# for wind speed\n",
    "X = weather_dataframe.wind_speed\n",
    "X = X.values.reshape(-1, 1)\n",
    "X_train, X_test, y_train, y_test = train_test_split(X, y, test_size=0.5, random_state=1)\n",
    "print(X_train.shape)\n",
    "print(X_test.shape)\n",
    "OLS = LinearRegression()\n",
    "OLS.fit(X_train, y_train)\n",
    "#SCORE\n",
    "print(\"score_train {} | score_test {}\".format(OLS.score(X_train, y_train), OLS.score(X_test, y_test)))\n",
    "print(\"coefficients {} | intercept {}\".format(OLS.coef_, OLS.intercept_))\n",
    "x_pred = np.arange(0,40).reshape(-1, 1)\n",
    "y_pred = model.predict(x_pred)\n",
    "plt.plot(x_pred, y_pred, color=\"red\")\n",
    "plt.scatter(X_test, y_test, color=\"black\")\n",
    "plt.legend([\"prediction wind speed\",\"actual delay\"])\n",
    "plt.show()\n",
    "# for wind gust\n",
    "X = weather_dataframe.wind_gust\n",
    "X = X.values.reshape(-1, 1)\n",
    "X_train, X_test, y_train, y_test = train_test_split(X, y, test_size=0.5, random_state=1)\n",
    "print(X_train.shape)\n",
    "print(X_test.shape)\n",
    "OLS = LinearRegression()\n",
    "OLS.fit(X_train, y_train)\n",
    "#SCORE\n",
    "print(\"score_train {} | score_test {}\".format(OLS.score(X_train, y_train), OLS.score(X_test, y_test)))\n",
    "print(\"coefficients {} | intercept {}\".format(OLS.coef_, OLS.intercept_))\n",
    "x_pred = np.arange(0,40).reshape(-1, 1)\n",
    "y_pred = model.predict(x_pred)\n",
    "plt.plot(x_pred, y_pred, color=\"red\")\n",
    "plt.scatter(X_test, y_test, color=\"black\")\n",
    "plt.legend([\"prediction wind gust\",\"actual delay\"])\n",
    "plt.show()\n",
    "# for precip\n",
    "X = weather_dataframe.precip\n",
    "X = X.values.reshape(-1, 1)\n",
    "X_train, X_test, y_train, y_test = train_test_split(X, y, test_size=0.5, random_state=1)\n",
    "print(X_train.shape)\n",
    "print(X_test.shape)\n",
    "OLS = LinearRegression()\n",
    "OLS.fit(X_train, y_train)\n",
    "#SCORE\n",
    "print(\"score_train {} | score_test {}\".format(OLS.score(X_train, y_train), OLS.score(X_test, y_test)))\n",
    "print(\"coefficients {} | intercept {}\".format(OLS.coef_, OLS.intercept_))\n",
    "x_pred = np.arange(0,2).reshape(-1, 1)\n",
    "y_pred = model.predict(x_pred)\n",
    "plt.plot(x_pred, y_pred, color=\"red\")\n",
    "plt.scatter(X_test, y_test, color=\"black\")\n",
    "plt.legend([\"prediction precip\",\"actual delay\"])\n",
    "plt.show()\n",
    "# for pressure\n",
    "X = weather_dataframe.pressure\n",
    "X = X.values.reshape(-1, 1)\n",
    "X_train, X_test, y_train, y_test = train_test_split(X, y, test_size=0.5, random_state=1)\n",
    "print(X_train.shape)\n",
    "print(X_test.shape)\n",
    "OLS = LinearRegression()\n",
    "OLS.fit(X_train, y_train)\n",
    "#SCORE\n",
    "print(\"score_train {} | score_test {}\".format(OLS.score(X_train, y_train), OLS.score(X_test, y_test)))\n",
    "print(\"coefficients {} | intercept {}\".format(OLS.coef_, OLS.intercept_))\n",
    "x_pred = np.arange(975,1050).reshape(-1, 1)\n",
    "y_pred = model.predict(x_pred)\n",
    "plt.plot(x_pred, y_pred, color=\"red\")\n",
    "plt.scatter(X_test, y_test, color=\"black\")\n",
    "plt.legend([\"prediction pressure\",\"actual delay\"])\n",
    "plt.show()\n",
    "# for visib\n",
    "X = weather_dataframe.visib\n",
    "X = X.values.reshape(-1, 1)\n",
    "X_train, X_test, y_train, y_test = train_test_split(X, y, test_size=0.5, random_state=1)\n",
    "print(X_train.shape)\n",
    "print(X_test.shape)\n",
    "OLS = LinearRegression()\n",
    "OLS.fit(X_train, y_train)\n",
    "#SCORE\n",
    "print(\"score_train {} | score_test {}\".format(OLS.score(X_train, y_train), OLS.score(X_test, y_test)))\n",
    "print(\"coefficients {} | intercept {}\".format(OLS.coef_, OLS.intercept_))\n",
    "x_pred = np.arange(0,20).reshape(-1, 1)\n",
    "y_pred = model.predict(x_pred)\n",
    "plt.plot(x_pred, y_pred, color=\"red\")\n",
    "plt.scatter(X_test, y_test, color=\"black\")\n",
    "plt.legend([\"prediction visib\",\"actual delay\"])\n",
    "plt.show()"
   ],
   "metadata": {
    "collapsed": false,
    "pycharm": {
     "name": "#%%\n"
    }
   }
  },
  {
   "cell_type": "markdown",
   "source": [],
   "metadata": {
    "collapsed": false
   }
  },
  {
   "cell_type": "markdown",
   "metadata": {},
   "source": [
    "**(f)** Is the age of the plane associated with delay? Do OLS, Ridge, Lasso, and Elastic Net."
   ]
  },
  {
   "cell_type": "code",
   "execution_count": null,
   "outputs": [],
   "source": [],
   "metadata": {
    "collapsed": false,
    "pycharm": {
     "name": "#%%\n"
    }
   }
  },
  {
   "cell_type": "markdown",
   "metadata": {},
   "source": [
    "**(g)** Do a principal component analysis of the weather at JFK using the following columns:\n",
    "   temp, dewp, humid, wind_dir, wind_speed, precip, visib.\n",
    "   How many principal components should be used to capture the variability in the weather data?"
   ]
  },
  {
   "cell_type": "markdown",
   "metadata": {},
   "source": [
    "**(h)** Build regression models (OLS, Ridge, Lasso, and Elastic Net) that associates\n",
    "   an airports lattitude with weather conditions (temp, dewp, humid, wind_dir, wind_speed,\n",
    "   precip, visib). Remove all but the three most significant whether conditions and redo\n",
    "   the analysis."
   ]
  },
  {
   "cell_type": "markdown",
   "metadata": {},
   "source": [
    "**(i)** On a map, plot the airports that have flights to them where the points that represent\n",
    "   airports are relative in size to the average departure delay. You can see an example in \"airports.png\"."
   ]
  },
  {
   "cell_type": "markdown",
   "metadata": {},
   "source": [
    " **(j)** These questions require no code.\n",
    " - Suppose you are using Ridge Regression and you notice that the training error and the validation error are almost equal and fairly high. Would you say that the model suffers from high bias or high variance? Should you increase the regularization hyperparameter or reduce it?\n",
    "\n",
    "- Why would you want to use:\n",
    "        > Ridge Regression instead of plain Linear Regression (i.e. without any regularization)?\n",
    "        > Lasso instead of Ridge Regression?\n",
    "        > Elastic Net instead of Lasso?"
   ]
  },
  {
   "cell_type": "markdown",
   "metadata": {},
   "source": [
    "## 3. Clustering of Handwritten Digits\n",
    "\n",
    "__You should be able to do this exercise after Lecture 5.__"
   ]
  },
  {
   "cell_type": "markdown",
   "metadata": {},
   "source": [
    "This exercise will depart from the famous MNIST dataset, and we are exploring several clustering techniques with it.. This is a \".mat\" file, in order to load this file in an ipynb you have to use loadmat() function from scipy.io. (replace my path)."
   ]
  },
  {
   "cell_type": "code",
   "execution_count": 156,
   "metadata": {},
   "outputs": [
    {
     "ename": "FileNotFoundError",
     "evalue": "[Errno 2] No such file or directory: 'mnist-original.mat'",
     "output_type": "error",
     "traceback": [
      "\u001B[1;31m---------------------------------------------------------------------------\u001B[0m",
      "\u001B[1;31mFileNotFoundError\u001B[0m                         Traceback (most recent call last)",
      "File \u001B[1;32m~\\AppData\\Local\\Programs\\Python\\Python39\\lib\\site-packages\\scipy\\io\\matlab\\mio.py:39\u001B[0m, in \u001B[0;36m_open_file\u001B[1;34m(file_like, appendmat, mode)\u001B[0m\n\u001B[0;32m     38\u001B[0m \u001B[38;5;28;01mtry\u001B[39;00m:\n\u001B[1;32m---> 39\u001B[0m     \u001B[38;5;28;01mreturn\u001B[39;00m \u001B[38;5;28;43mopen\u001B[39;49m\u001B[43m(\u001B[49m\u001B[43mfile_like\u001B[49m\u001B[43m,\u001B[49m\u001B[43m \u001B[49m\u001B[43mmode\u001B[49m\u001B[43m)\u001B[49m, \u001B[38;5;28;01mTrue\u001B[39;00m\n\u001B[0;32m     40\u001B[0m \u001B[38;5;28;01mexcept\u001B[39;00m \u001B[38;5;167;01mIOError\u001B[39;00m \u001B[38;5;28;01mas\u001B[39;00m e:\n\u001B[0;32m     41\u001B[0m     \u001B[38;5;66;03m# Probably \"not found\"\u001B[39;00m\n",
      "\u001B[1;31mFileNotFoundError\u001B[0m: [Errno 2] No such file or directory: 'mnist-original'",
      "\nDuring handling of the above exception, another exception occurred:\n",
      "\u001B[1;31mFileNotFoundError\u001B[0m                         Traceback (most recent call last)",
      "Input \u001B[1;32mIn [156]\u001B[0m, in \u001B[0;36m<module>\u001B[1;34m\u001B[0m\n\u001B[0;32m      1\u001B[0m \u001B[38;5;28;01mfrom\u001B[39;00m \u001B[38;5;21;01mscipy\u001B[39;00m\u001B[38;5;21;01m.\u001B[39;00m\u001B[38;5;21;01mio\u001B[39;00m \u001B[38;5;28;01mimport\u001B[39;00m loadmat\n\u001B[1;32m----> 3\u001B[0m mnist \u001B[38;5;241m=\u001B[39m \u001B[43mloadmat\u001B[49m\u001B[43m(\u001B[49m\u001B[38;5;124;43m'\u001B[39;49m\u001B[38;5;124;43mmnist-original\u001B[39;49m\u001B[38;5;124;43m'\u001B[39;49m\u001B[43m)\u001B[49m\n\u001B[0;32m      4\u001B[0m mnist_data \u001B[38;5;241m=\u001B[39m mnist[\u001B[38;5;124m\"\u001B[39m\u001B[38;5;124mdata\u001B[39m\u001B[38;5;124m\"\u001B[39m]\u001B[38;5;241m.\u001B[39mT\n\u001B[0;32m      5\u001B[0m mnist_label \u001B[38;5;241m=\u001B[39m mnist[\u001B[38;5;124m\"\u001B[39m\u001B[38;5;124mlabel\u001B[39m\u001B[38;5;124m\"\u001B[39m][\u001B[38;5;241m0\u001B[39m]\n",
      "File \u001B[1;32m~\\AppData\\Local\\Programs\\Python\\Python39\\lib\\site-packages\\scipy\\io\\matlab\\mio.py:224\u001B[0m, in \u001B[0;36mloadmat\u001B[1;34m(file_name, mdict, appendmat, **kwargs)\u001B[0m\n\u001B[0;32m     87\u001B[0m \u001B[38;5;124;03m\"\"\"\u001B[39;00m\n\u001B[0;32m     88\u001B[0m \u001B[38;5;124;03mLoad MATLAB file.\u001B[39;00m\n\u001B[0;32m     89\u001B[0m \n\u001B[1;32m   (...)\u001B[0m\n\u001B[0;32m    221\u001B[0m \u001B[38;5;124;03m    3.14159265+3.14159265j])\u001B[39;00m\n\u001B[0;32m    222\u001B[0m \u001B[38;5;124;03m\"\"\"\u001B[39;00m\n\u001B[0;32m    223\u001B[0m variable_names \u001B[38;5;241m=\u001B[39m kwargs\u001B[38;5;241m.\u001B[39mpop(\u001B[38;5;124m'\u001B[39m\u001B[38;5;124mvariable_names\u001B[39m\u001B[38;5;124m'\u001B[39m, \u001B[38;5;28;01mNone\u001B[39;00m)\n\u001B[1;32m--> 224\u001B[0m \u001B[38;5;28;01mwith\u001B[39;00m _open_file_context(file_name, appendmat) \u001B[38;5;28;01mas\u001B[39;00m f:\n\u001B[0;32m    225\u001B[0m     MR, _ \u001B[38;5;241m=\u001B[39m mat_reader_factory(f, \u001B[38;5;241m*\u001B[39m\u001B[38;5;241m*\u001B[39mkwargs)\n\u001B[0;32m    226\u001B[0m     matfile_dict \u001B[38;5;241m=\u001B[39m MR\u001B[38;5;241m.\u001B[39mget_variables(variable_names)\n",
      "File \u001B[1;32m~\\AppData\\Local\\Programs\\Python\\Python39\\lib\\contextlib.py:119\u001B[0m, in \u001B[0;36m_GeneratorContextManager.__enter__\u001B[1;34m(self)\u001B[0m\n\u001B[0;32m    117\u001B[0m \u001B[38;5;28;01mdel\u001B[39;00m \u001B[38;5;28mself\u001B[39m\u001B[38;5;241m.\u001B[39margs, \u001B[38;5;28mself\u001B[39m\u001B[38;5;241m.\u001B[39mkwds, \u001B[38;5;28mself\u001B[39m\u001B[38;5;241m.\u001B[39mfunc\n\u001B[0;32m    118\u001B[0m \u001B[38;5;28;01mtry\u001B[39;00m:\n\u001B[1;32m--> 119\u001B[0m     \u001B[38;5;28;01mreturn\u001B[39;00m \u001B[38;5;28;43mnext\u001B[39;49m\u001B[43m(\u001B[49m\u001B[38;5;28;43mself\u001B[39;49m\u001B[38;5;241;43m.\u001B[39;49m\u001B[43mgen\u001B[49m\u001B[43m)\u001B[49m\n\u001B[0;32m    120\u001B[0m \u001B[38;5;28;01mexcept\u001B[39;00m \u001B[38;5;167;01mStopIteration\u001B[39;00m:\n\u001B[0;32m    121\u001B[0m     \u001B[38;5;28;01mraise\u001B[39;00m \u001B[38;5;167;01mRuntimeError\u001B[39;00m(\u001B[38;5;124m\"\u001B[39m\u001B[38;5;124mgenerator didn\u001B[39m\u001B[38;5;124m'\u001B[39m\u001B[38;5;124mt yield\u001B[39m\u001B[38;5;124m\"\u001B[39m) \u001B[38;5;28;01mfrom\u001B[39;00m \u001B[38;5;28mNone\u001B[39m\n",
      "File \u001B[1;32m~\\AppData\\Local\\Programs\\Python\\Python39\\lib\\site-packages\\scipy\\io\\matlab\\mio.py:17\u001B[0m, in \u001B[0;36m_open_file_context\u001B[1;34m(file_like, appendmat, mode)\u001B[0m\n\u001B[0;32m     15\u001B[0m \u001B[38;5;129m@contextmanager\u001B[39m\n\u001B[0;32m     16\u001B[0m \u001B[38;5;28;01mdef\u001B[39;00m \u001B[38;5;21m_open_file_context\u001B[39m(file_like, appendmat, mode\u001B[38;5;241m=\u001B[39m\u001B[38;5;124m'\u001B[39m\u001B[38;5;124mrb\u001B[39m\u001B[38;5;124m'\u001B[39m):\n\u001B[1;32m---> 17\u001B[0m     f, opened \u001B[38;5;241m=\u001B[39m \u001B[43m_open_file\u001B[49m\u001B[43m(\u001B[49m\u001B[43mfile_like\u001B[49m\u001B[43m,\u001B[49m\u001B[43m \u001B[49m\u001B[43mappendmat\u001B[49m\u001B[43m,\u001B[49m\u001B[43m \u001B[49m\u001B[43mmode\u001B[49m\u001B[43m)\u001B[49m\n\u001B[0;32m     18\u001B[0m     \u001B[38;5;28;01mtry\u001B[39;00m:\n\u001B[0;32m     19\u001B[0m         \u001B[38;5;28;01myield\u001B[39;00m f\n",
      "File \u001B[1;32m~\\AppData\\Local\\Programs\\Python\\Python39\\lib\\site-packages\\scipy\\io\\matlab\\mio.py:45\u001B[0m, in \u001B[0;36m_open_file\u001B[1;34m(file_like, appendmat, mode)\u001B[0m\n\u001B[0;32m     43\u001B[0m     \u001B[38;5;28;01mif\u001B[39;00m appendmat \u001B[38;5;129;01mand\u001B[39;00m \u001B[38;5;129;01mnot\u001B[39;00m file_like\u001B[38;5;241m.\u001B[39mendswith(\u001B[38;5;124m'\u001B[39m\u001B[38;5;124m.mat\u001B[39m\u001B[38;5;124m'\u001B[39m):\n\u001B[0;32m     44\u001B[0m         file_like \u001B[38;5;241m+\u001B[39m\u001B[38;5;241m=\u001B[39m \u001B[38;5;124m'\u001B[39m\u001B[38;5;124m.mat\u001B[39m\u001B[38;5;124m'\u001B[39m\n\u001B[1;32m---> 45\u001B[0m     \u001B[38;5;28;01mreturn\u001B[39;00m \u001B[38;5;28;43mopen\u001B[39;49m\u001B[43m(\u001B[49m\u001B[43mfile_like\u001B[49m\u001B[43m,\u001B[49m\u001B[43m \u001B[49m\u001B[43mmode\u001B[49m\u001B[43m)\u001B[49m, \u001B[38;5;28;01mTrue\u001B[39;00m\n\u001B[0;32m     46\u001B[0m \u001B[38;5;28;01melse\u001B[39;00m:\n\u001B[0;32m     47\u001B[0m     \u001B[38;5;28;01mraise\u001B[39;00m \u001B[38;5;167;01mIOError\u001B[39;00m(\n\u001B[0;32m     48\u001B[0m         \u001B[38;5;124m'\u001B[39m\u001B[38;5;124mReader needs file name or open file-like object\u001B[39m\u001B[38;5;124m'\u001B[39m\n\u001B[0;32m     49\u001B[0m     ) \u001B[38;5;28;01mfrom\u001B[39;00m \u001B[38;5;21;01me\u001B[39;00m\n",
      "\u001B[1;31mFileNotFoundError\u001B[0m: [Errno 2] No such file or directory: 'mnist-original.mat'"
     ]
    }
   ],
   "source": [
    "from scipy.io import loadmat\n",
    "\n",
    "mnist = loadmat('mnist-original')\n",
    "mnist_data = mnist[\"data\"].T\n",
    "mnist_label = mnist[\"label\"][0]\n",
    "import numpy as np\n",
    "\n",
    "print(\"Number of datapoints: {}\\n\".format(mnist_data.shape[0]))\n",
    "print(\"Number of features: {}\\n\".format(mnist_data.shape[1]))\n",
    "print(\"List of labels: {}\\n\".format(np.unique(mnist_label)))"
   ]
  },
  {
   "cell_type": "markdown",
   "metadata": {},
   "source": [
    "There are 70,000 images, and each image has 784 features. This is because each image is 28×28 pixels,\n",
    "and each feature simply represents one pixel’s intensity, from 0 (white) to 255 (black). Let’s take a peek at one digit from the dataset. All you need to do is grab an instance’s feature vector, reshape it to a 28×28 array, and display it using Matplotlib’s `imshow()` function:"
   ]
  },
  {
   "cell_type": "code",
   "execution_count": null,
   "metadata": {},
   "outputs": [],
   "source": [
    "% matplotlib inline\n",
    "import matplotlib.pyplot as plt\n",
    "\n",
    "index = 4\n",
    "print(\"Value of datapoint no. {}:\\n{}\\n\".format(index, mnist_data[index]))\n",
    "print(\"As image:\\n\")\n",
    "plt.imshow(mnist_data[index].reshape(28, 28), cmap=plt.cm.gray_r)\n",
    "plt.show()"
   ]
  },
  {
   "cell_type": "markdown",
   "metadata": {},
   "source": [
    "**(a)** Perform k-means clustering with k=10 on this dataset."
   ]
  },
  {
   "cell_type": "markdown",
   "metadata": {},
   "source": [
    "**(b)** Using visualization techniques analogous to what we have done in the Clustering notebook\n",
    "   for the faces data, can you determine the 'nature' of the 10 constructed clusters?\n",
    "   Do the clusters (roughly) coincide with the 10 different actual digits?"
   ]
  },
  {
   "cell_type": "markdown",
   "metadata": {},
   "source": [
    "**(c)** Perform a supervised clustering evaluation using adjusted rand index.\n",
    "   Are the results stable, when you perform several random restarts of k-means?"
   ]
  },
  {
   "cell_type": "markdown",
   "metadata": {},
   "source": [
    "**(d)** Now perform hierarchical clustering on the data.\n",
    "   (in order to improve visibility in the constructed dendrograms, you can also use a\n",
    "   much reduced dataset as constructed using sklearn.utils.resample shown below).\n",
    "   Does the visual analysis of the dendrogram indicate a natural number of clusters?"
   ]
  },
  {
   "cell_type": "markdown",
   "metadata": {},
   "source": [
    "**(e)** Using different cluster distance metrics (ward,single,average, etc.),\n",
    "   what do the clusterings look like that are produced at the level of k=10 clusters?\n",
    "   See the Clustering notebook for the needed Python code, including the fcluster\n",
    "   method to retrieve 'plain' clusterings from the hierarchical clustering."
   ]
  },
  {
   "cell_type": "code",
   "execution_count": null,
   "metadata": {},
   "outputs": [],
   "source": [
    "small_mnist_data, small_mnist_label = skl.utils.resample(mnist.data, mnist.target, n_samples=200, replace='false')"
   ]
  },
  {
   "cell_type": "markdown",
   "metadata": {},
   "source": [
    "**(f)** Do a DBSCAN clustering of the small dataset. Tweak the different parameters."
   ]
  },
  {
   "cell_type": "markdown",
   "metadata": {},
   "source": [
    "**(g)** Try to compare the different clustering methods on the MNIST dataset in the same way\n",
    "   the book does on the faces dataset on pp. 195-206."
   ]
  },
  {
   "cell_type": "markdown",
   "metadata": {},
   "source": [
    "## 4. The Local Elections\n",
    "\n",
    "__You should be able to do this exercise after Lecture 6.__\n",
    "\n",
    "In the local elections of 2021, around 100 candidates stood for election for the city council of Horsens. 83 of them represented a national party, had more than one candidate and provided answers to the <a href=\"https://www.dr.dk/nyheder/politik/kandidattest\">DR Candidate Test</a>, a test designed to help voters find out who they should vote for. In this test, the candidates answered 18 questions, which we will use as features in the following. The politicians belong to 9 parties, which will be our classes.\n",
    "\n",
    "The numpy files `X_Horsens.npy` and `Y_Horsens.npy` contains the data. `Y_Horsens.npy` contains a letter representing the party to which each candidate belongs. The following parties are represented:\n",
    "\n",
    "| Party letter | Party name | Party name (English) | Political position | Party color |\n",
    "| :-: | :-: | :-: | :-: | :-: |\n",
    "| A | Socialdemokratiet | Social Democrats | Centre-left | Red |\n",
    "| B | Radikale Venstre | Social Liberal Party | Centre-left | Indigo |\n",
    "| C | Det Konservative Folkeparti | Conservative People's Party | Right-wing | Green |\n",
    "| D | Nye Borgerlige | New Right | Far-right | Black |\n",
    "| F | Socialistisk Folkeparti | Socialist People's Party | Left-wing | Fuchsia |\n",
    "| I | Liberal Alliance | Liberal Alliance | Right-wing | Cyan |\n",
    "| O | Dansk Folkeparti | Danish People's Party | Far-right | Yellow |\n",
    "| V | Venstre | Danish Liberal Party | Centre-right | Blue |\n",
    "| Z* | Enhedslisten | Red-Green Alliance | Far-left | Dark red |\n",
    "\n",
    "*_Note that, although the party letter of Enhedslisten is actually Ø, we will here use Z to avoid any complications with the wonderful Danish letters Æ, Ø and Å. Feel free to change the Z back to an Ø if you find that it does not cause any problems._\n",
    "\n",
    "Meanwhile, `X_Horsens.npy` contains the answers to the test as numbers between -1.5 and 1.5, such that -1.5 is \"Strongly disagree\", -0.5 is \"Disagree\", 0.5 is \"Agree\" and 1.5 is \"Strongly agree\". The 18 questions concern, in order, subdivision, schools, windmills, building permits, tall buildings, housing, child care, culture, nursing homes, taxes, sports, refugees, nursing homes (again), public transportation, meat-free days, welfare, privatization, and religious minorities.\n",
    "\n",
    "Both files can be imported using `numpy.load`."
   ]
  },
  {
   "cell_type": "markdown",
   "metadata": {},
   "source": [
    "__(a)__ How well do you (intuitively) expect that we can predict the partisan affiliation of a candidate based on their answers to the test?"
   ]
  },
  {
   "cell_type": "markdown",
   "metadata": {},
   "source": [
    "__(b)__ Based on the answers from all 83 candidates for the Horsens city council, perform a Principal Component Analysis with 2 principal components. Plot the results in a figure using these 2 components as the axes. Label the points with the party letter and the appropriate color."
   ]
  },
  {
   "cell_type": "markdown",
   "metadata": {},
   "source": [
    "__(c)__ Comment on the results. You may consider the following questions for inspiration: Can the political parties be separated? Can the typical distinction of \"left-wing\" and \"right-wing\" be discerned? Which of the 18 questions (features) are most important?"
   ]
  },
  {
   "cell_type": "markdown",
   "metadata": {},
   "source": [
    "The number of candidates (83) is on the (very) low side when we want to do machine learning. Luckily, the neighbouring city of Databorg had no less than 8,300 candidates standing for election, with a political environment similar to that of Horsens. In the following, we will use the data from Databorg. These are stored in the numpy files `X_Databorg.npy` and `Y_Databorg.npy` in same format as the Horsens data.\n",
    "\n",
    "__(d)__ Once again, perform a Principal Component Analysis and visualize the results. Compare the results to those of the Horsens data."
   ]
  },
  {
   "cell_type": "markdown",
   "metadata": {},
   "source": [
    "Confident that we can predict the partisan affiliation of a politician reasonably well based on their answers to the test, we want to build a model that will allow us to distinguish between the 9 political parties. For this purpose, we split the data into a training and a validation set.\n",
    "\n",
    "__(e)__ Split the data into a training and a validation set, with appropriate fractions."
   ]
  },
  {
   "cell_type": "markdown",
   "metadata": {},
   "source": [
    "First, we assume that a Naive Bayes approach is sufficient for our purposes.\n",
    "\n",
    "__(f)__ Comment on the basic assumption of the Naive Bayes approach. Is this a reasonable assumption for the problem at hand?"
   ]
  },
  {
   "cell_type": "markdown",
   "metadata": {},
   "source": [
    "__(g)__ Classify the instances of the validation set using a Naive Bayes approach. Comment on the results."
   ]
  },
  {
   "cell_type": "markdown",
   "metadata": {},
   "source": [
    "Assume instead that a _k_-nearest neighbour approach is sufficient for our  needs.\n",
    "\n",
    "__(h)__ Using default settings of the _k_-NN classifier, classify the instances of the validation set. Comment on the performance."
   ]
  },
  {
   "cell_type": "markdown",
   "metadata": {},
   "source": [
    "__(i)__ Play around with different values of _k_. Decide on a \"good\" value of _k_. Comment on the results."
   ]
  },
  {
   "cell_type": "markdown",
   "metadata": {},
   "source": [
    "We now try to use a decision tree instead.\n",
    "\n",
    "__(j)__ What is the _minimum_ depth of an appropriate decision tree? Why?"
   ]
  },
  {
   "cell_type": "markdown",
   "metadata": {},
   "source": [
    "__(k)__ Build a decision tree with at least the depth from above. Play around with the tree depth. Include a figure that shows some relevant measure of the performance as a function of the tree depth. Comment on any issues of over-fitting. Decide on a tree which you will keep for later use. Can you do better than the _k_-NN classifier?"
   ]
  },
  {
   "cell_type": "markdown",
   "metadata": {},
   "source": [
    "__(l)__ What are the most important features? Visualize this in an appropriate way. Does it match what you would expect? Compare to the results of the PCA analysis. Do we expect them to be the same? Why/why not?"
   ]
  },
  {
   "cell_type": "markdown",
   "metadata": {},
   "source": [
    "We know that decision trees suffer from certain problems that may be solved by using decision forests.\n",
    "\n",
    "__(m)__ Build a decision forest. Play around with the number of trees in the forest. Decide on a forest."
   ]
  },
  {
   "cell_type": "markdown",
   "metadata": {},
   "source": [
    "__(n)__ Extract the most important features. Comment and compare with previously obtained results."
   ]
  },
  {
   "cell_type": "markdown",
   "metadata": {},
   "source": [
    "Finally, we want to compare the models we have worked with so far (i.e., Naive Bayes, _k_-NN, decision tree and decision forest).\n",
    "\n",
    "__(o)__ Compare the results of the in terms of confusion matrices, accuracy, precision, recall, and f-score. How well can we predict the partisan affiliation of a candidate based on their answers to a test? How does this compare with your intuition? "
   ]
  },
  {
   "cell_type": "markdown",
   "metadata": {},
   "source": [
    "## 5. Sentiment Analysis\n",
    "\n",
    "__You should be able to do this exercise after Lecture 8.__"
   ]
  },
  {
   "cell_type": "markdown",
   "metadata": {},
   "source": [
    "In this exercise we use the IMDb-dataset, which we will use to perform a sentiment analysis. The code below assumes that the data is placed in the same folder as this notebook. We see that the reviews are loaded as a pandas dataframe, and print the beginning of the first few reviews."
   ]
  },
  {
   "cell_type": "code",
   "execution_count": null,
   "metadata": {},
   "outputs": [],
   "source": [
    "import pandas as pd\n",
    "\n",
    "reviews = pd.read_csv('reviews.txt', header=None)\n",
    "labels = pd.read_csv('labels.txt', header=None)\n",
    "Y = (labels == 'positive').astype(np.int_)\n",
    "\n",
    "print(type(reviews))\n",
    "print(reviews.head())"
   ]
  },
  {
   "cell_type": "markdown",
   "metadata": {},
   "source": [
    "**(a)** Split the reviews and labels in test, train and validation sets. The train and validation sets will be used to train your model and tune hyperparameters, the test set will be saved for testing."
   ]
  },
  {
   "cell_type": "markdown",
   "metadata": {},
   "source": [
    "**(b)** Use the `CountVectorizer` from `sklearn.feature_extraction.text` to create a Bag-of-Words representation of the reviews. (See an example of how to do this in chapter 7 of \"Muller and Guido\"). Only use the 10,000 most frequent words (use the `max_features`-parameter of `CountVectorizer`)."
   ]
  },
  {
   "cell_type": "markdown",
   "metadata": {},
   "source": [
    "**(c)** Explore the representation of the reviews. How is a single word represented? How about a whole review?"
   ]
  },
  {
   "cell_type": "markdown",
   "metadata": {},
   "source": [
    "**(d)** Train a neural network with a single hidden layer on the dataset, tuning the relevant hyperparameters to optimize accuracy. "
   ]
  },
  {
   "cell_type": "markdown",
   "metadata": {},
   "source": [
    "**(e)** Test your sentiment-classifier on the test set."
   ]
  },
  {
   "cell_type": "markdown",
   "metadata": {},
   "source": [
    "**(h)** Use the classifier to classify a few sentences you write yourselves. "
   ]
  },
  {
   "cell_type": "markdown",
   "metadata": {},
   "source": [
    "## 6. Speech Recognition\n",
    "\n",
    "__You should be able to do this exercise after Lecture 9.__"
   ]
  },
  {
   "cell_type": "markdown",
   "metadata": {},
   "source": [
    "In this exercise, we will work with the <a href=\"https://arxiv.org/pdf/1804.03209.pdf\">Google Speech Command Dataset</a>, which can be downloaded from <a href=\"http://download.tensorflow.org/data/speech_commands_v0.02.tar.gz\">here</a> (note: you do not need to download the full dataset, but it will allow you to play around with the raw audiofiles). This dataset contains 105,829 one-second long audio files with utterances of 35 common words.\n",
    "\n",
    "We will use a subset of this dataset as indicated in the table below.\n",
    "\n",
    "| Word | How many? | Class # |\n",
    "| :-: | :-: | :-: |\n",
    "| Yes | 4,044 | 3 |\n",
    "| No | 3,941 | 1 |\n",
    "| Stop | 3,872 | 2 |\n",
    "| Go | 3,880 | 0 |\n",
    "\n",
    "The data is given in the files `XSound.npy` and `YSound.npy`, both of which can be imported using `numpy.load`. `XSound.npy` contains spectrograms (_e.g._, matrices with a time-axis and a frequency-axis of size 62 (time) x 65 (frequency)). `YSound.npy` contains the class number, as indicated in the table above."
   ]
  },
  {
   "cell_type": "markdown",
   "metadata": {},
   "source": [
    "__(a)__ Explore and prepare the data, including splitting the data in training, validation and testing data, handling outliers, perhaps taking logarithms, etc. Data preparation is - as always - quite important. Document what you do."
   ]
  },
  {
   "cell_type": "markdown",
   "metadata": {},
   "source": [
    "__(b)__ Visualize a few examples of yes's, no's, stop's and go's, so that you have a reasonable intuitive understanding of the difference between the words."
   ]
  },
  {
   "cell_type": "markdown",
   "metadata": {},
   "source": [
    "__(c)__ Train a neural network and at least one other algorithm on the data. Find a good set of hyperparameters for each model. Do you think a neural network is suitable for this kind of problem? Why/why not?"
   ]
  },
  {
   "cell_type": "markdown",
   "metadata": {},
   "source": [
    "__(d)__ Classify instances of the validation set using your models. Comment on the results in terms of metrics you have learned in the course."
   ]
  },
  {
   "cell_type": "markdown",
   "metadata": {},
   "source": [
    "__(e)__ Identify (a few) misclassified words, including what they are misclassified as. Visualize them as before, and compare with your intuitive understanding of how the words look. Do you find the misclassified examples surprising?"
   ]
  },
  {
   "cell_type": "markdown",
   "metadata": {},
   "source": [
    "## 7. Group Assignment & Presentation"
   ]
  },
  {
   "cell_type": "markdown",
   "metadata": {},
   "source": [
    "\n",
    "\n",
    "__You should be able to start up on this exercise after Lecture 1.__\n",
    "\n",
    "*This exercise must be a group effort. That means everyone must participate in the assignment.*\n",
    "\n",
    "In this assignment you will solve a data science problem end-to-end, pretending to be recently hired data scientists in a company. To help you get started, we've prepared a checklist to guide you through the project. Here are the main steps that you will go through:\n",
    "\n",
    "1. Frame the problem and look at the big picture\n",
    "2. Get the data\n",
    "3. Explore and visualise the data to gain insights\n",
    "4. Prepare the data to better expose the underlying data patterns to machine learning algorithms\n",
    "5. Explore many different models and short-list the best ones\n",
    "6. Fine-tune your models\n",
    "7. Present your solution \n",
    "\n",
    "In each step we list a set of questions that one should have in mind when undertaking a data science project. The list is not meant to be exhaustive, but does contain a selection of the most important questions to ask. We will be available to provide assistance with each of the steps, and will allocate some part of each lesson towards working on the projects.\n",
    "\n",
    "Your group must submit a _**single**_ Jupyter notebook, structured in terms of the first 6 sections listed above (the seventh will be a video uploaded to some streaming platform, e.g. YouTube, Vimeo, etc.)."
   ]
  },
  {
   "cell_type": "markdown",
   "metadata": {},
   "source": [
    "### 1. Analysis: Frame the problem and look at the big picture\n",
    "1. Find a problem/task that everyone in the group finds interesting\n",
    "2. Define the objective in business terms\n",
    "3. How should you frame the problem (supervised/unsupervised etc.)?\n",
    "4. How should performance be measured?"
   ]
  },
  {
   "cell_type": "markdown",
   "metadata": {},
   "source": [
    "### 2. Get the data\n",
    "1. Find and document where you can get the data from\n",
    "2. Get the data\n",
    "3. Check the size and type of data (time series, geographical etc)"
   ]
  },
  {
   "cell_type": "markdown",
   "metadata": {},
   "source": [
    "### 3. Explore the data\n",
    "1. Create a copy of the data for explorations (sampling it down to a manageable size if necessary)\n",
    "2. Create a Jupyter notebook to keep a record of your data exploration\n",
    "3. Study each feature and its characteristics:\n",
    "    * Name\n",
    "    * Type (categorical, int/float, bounded/unbounded, text, structured, etc)\n",
    "    * Percentage of missing values\n",
    "    * Check for outliers, rounding errors etc\n",
    "4. For supervised learning tasks, identify the target(s)\n",
    "5. Visualise the data\n",
    "6. Study the correlations between features\n",
    "7. Identify the promising transformations you may want to apply (e.g. convert skewed targets to normal via a log transformation)\n",
    "8. Document what you have learned"
   ]
  },
  {
   "cell_type": "markdown",
   "metadata": {},
   "source": [
    "### 4. Prepare the data\n",
    "Notes:\n",
    "* Work on copies of the data (keep the original dataset intact).\n",
    "* Write functions for all data transformations you apply, for three reasons:\n",
    "    * So you can easily prepare the data the next time you run your code\n",
    "    * So you can apply these transformations in future projects\n",
    "    * To clean and prepare the test set\n",
    "    \n",
    "    \n",
    "1. Data cleaning:\n",
    "    * Fix or remove outliers (or keep them)\n",
    "    * Fill in missing values (e.g. with zero, mean, median, regression ...) or drop their rows (or columns)\n",
    "2. Feature selection (optional):\n",
    "    * Drop the features that provide no useful information for the task (e.g. a customer ID is usually useless for modelling).\n",
    "3. Feature engineering, where appropriate:\n",
    "    * Discretize continuous features\n",
    "    * Use one-hot encoding if/when relevant\n",
    "    * Add promising transformations of features (e.g. $\\log(x)$, $\\sqrt{x}$, $x^2$, etc)\n",
    "    * Aggregate features into promising new features\n",
    "4. Feature scaling: standardise or normalise features"
   ]
  },
  {
   "cell_type": "markdown",
   "metadata": {},
   "source": [
    "### 5. Short-list promising models\n",
    "We expect you to do some additional research and train at **least one model per team member**.\n",
    "\n",
    "1. Train mainly quick and dirty models from different categories (e.g. linear, SVM, Random Forests etc) using default parameters\n",
    "2. Measure and compare their performance\n",
    "3. Analyse the most significant variables for each algorithm\n",
    "4. Analyse the types of errors the models make\n",
    "5. Have a quick round of feature selection and engineering if necessary\n",
    "6. Have one or two more quick iterations of the five previous steps\n",
    "7. Short-list the top three to five most promising models, preferring models that make different types of errors"
   ]
  },
  {
   "cell_type": "markdown",
   "metadata": {},
   "source": [
    "### 6. Fine-tune the system\n",
    "1. Fine-tune the hyperparameters\n",
    "2. Once you are confident about your final model, measure its performance on the test set to estimate the generalisation error"
   ]
  },
  {
   "cell_type": "markdown",
   "metadata": {},
   "source": [
    "### 7. Present your solution\n",
    "1. Document what you have done\n",
    "2. Create a nice 15 minute video presentation with slides\n",
    "    * Make sure you highlight the big picture first\n",
    "3. Explain why your solution achieves the business objective\n",
    "4. Don't forget to present interesting points you noticed along the way:\n",
    "    * Describe what worked and what did not\n",
    "    * List your assumptions and you model's limitations\n",
    "5. Ensure your key findings are communicated through nice visualisations or easy-to-remember statements (e.g. \"the median income is the number-one predictor of housing prices\")\n",
    "6. Upload the presentation to some online platform, e.g. YouTube or Vimeo, and supply a link to the video in the notebook."
   ]
  },
  {
   "cell_type": "markdown",
   "metadata": {},
   "source": [
    "## References"
   ]
  },
  {
   "cell_type": "markdown",
   "metadata": {},
   "source": [
    "Géron, A. 2017, *Hands-On Machine Learning with Scikit-Learn and Tensorflow*, Appendix B, O'Reilly Media, Inc., Sebastopol."
   ]
  }
 ],
 "metadata": {
  "kernelspec": {
   "display_name": "Python 3",
   "language": "python",
   "name": "python3"
  },
  "language_info": {
   "codemirror_mode": {
    "name": "ipython",
    "version": 3
   },
   "file_extension": ".py",
   "mimetype": "text/x-python",
   "name": "python",
   "nbconvert_exporter": "python",
   "pygments_lexer": "ipython3",
   "version": "3.7.6"
  }
 },
 "nbformat": 4,
 "nbformat_minor": 5
}