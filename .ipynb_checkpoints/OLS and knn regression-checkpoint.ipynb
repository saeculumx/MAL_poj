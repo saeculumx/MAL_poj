{
 "cells": [
  {
   "cell_type": "markdown",
   "metadata": {},
   "source": [
    "# Ordinary Least Squares (OLS) and knn regression "
   ]
  },
  {
   "cell_type": "code",
   "execution_count": null,
   "metadata": {},
   "outputs": [],
   "source": [
    "%matplotlib inline\n",
    "\n",
    "import pandas as pd\n",
    "import numpy as np\n",
    "import matplotlib.pyplot as plt\n",
    "\n",
    "from sklearn.preprocessing import scale \n",
    "from sklearn.model_selection import train_test_split\n",
    "from sklearn.linear_model import LinearRegression\n",
    "from sklearn.neighbors import KNeighborsRegressor"
   ]
  },
  {
   "cell_type": "markdown",
   "metadata": {},
   "source": [
    "In this notebook we will do \"Ordinary Least Squares\"-regression on the BMI dataset. In the end, we compare the model to a knn regressor.\n",
    "\n",
    "\n",
    "We will try to predict the values in the \"Index\" column based on the Height and Weight features. For simplicity we do not include the Gender column in our features. "
   ]
  },
  {
   "cell_type": "code",
   "execution_count": null,
   "metadata": {},
   "outputs": [],
   "source": [
    "data = pd.read_csv('500_Person_Gender_Height_Weight_Index.csv')\n",
    "data"
   ]
  },
  {
   "cell_type": "markdown",
   "metadata": {},
   "source": [
    "We pull out the features and the labels (i.e. the thing we are trying to predict):"
   ]
  },
  {
   "cell_type": "code",
   "execution_count": null,
   "metadata": {},
   "outputs": [],
   "source": [
    "X = data.loc[:,'Height':'Weight']\n",
    "y = data['Index']"
   ]
  },
  {
   "cell_type": "code",
   "execution_count": null,
   "metadata": {},
   "outputs": [],
   "source": [
    "X_train, X_test , y_train, y_test = train_test_split(X, y, test_size=0.5, random_state=1)"
   ]
  },
  {
   "cell_type": "code",
   "execution_count": null,
   "metadata": {},
   "outputs": [],
   "source": [
    "ODS = LinearRegression()\n",
    "ODS.fit(X_train, y_train)"
   ]
  },
  {
   "cell_type": "markdown",
   "metadata": {},
   "source": [
    "Let's find the $R^2$ performance on train and test data:"
   ]
  },
  {
   "cell_type": "code",
   "execution_count": null,
   "metadata": {},
   "outputs": [],
   "source": [
    "print(\"R^2 on train data is {} and on test data is {}\".format(ODS.score(X_train, y_train), \n",
    "                                                              ODS.score(X_test,y_test)))"
   ]
  },
  {
   "cell_type": "markdown",
   "metadata": {},
   "source": [
    "We can also get the coefficients and the intercept for the model, where: \n",
    "\n",
    "$y = \\text{intercept} + \\text{coef}[0] \\cdot \\text{height} + \\text{coef}[1]\\cdot \\text{weight}$."
   ]
  },
  {
   "cell_type": "code",
   "execution_count": null,
   "metadata": {},
   "outputs": [],
   "source": [
    "print(\"The coefficents are {} and the intercept is {}\".format(ODS.coef_, ODS.intercept_))"
   ]
  },
  {
   "cell_type": "markdown",
   "metadata": {},
   "source": [
    "And we can use the model to predict an index given a height and a weight:"
   ]
  },
  {
   "cell_type": "code",
   "execution_count": null,
   "metadata": {},
   "outputs": [],
   "source": [
    "h = 174\n",
    "w = 64\n",
    "print(\"A person with a height of {}cm and a weight of {}kg is predicted by the model \\\n",
    "to have an index of {}\".format(h, w, ODS.predict(np.array([[h, w]]))))"
   ]
  },
  {
   "cell_type": "markdown",
   "metadata": {},
   "source": [
    "Let's investigate the model visually by plotting it:"
   ]
  },
  {
   "cell_type": "code",
   "execution_count": null,
   "metadata": {},
   "outputs": [],
   "source": [
    "from mpl_toolkits.mplot3d import Axes3D\n",
    "import numpy as np\n",
    "\n",
    "fig = plt.figure()\n",
    "ax = fig.add_subplot(111, projection='3d')\n",
    "ax.scatter(X_train.iloc[:,0], X_train.iloc[:,1], y_train, marker='.', color='red')\n",
    "ax.set_xlabel(\"Heigt [kg]\")\n",
    "ax.set_ylabel(\"Weight [cm]\")\n",
    "ax.set_zlabel(\"y [index]\")\n",
    "ax.view_init(elev=20., azim=35)\n",
    "\n",
    "model = LinearRegression()\n",
    "model.fit(X_train, y_train)\n",
    "\n",
    "n = 10\n",
    "xs = np.tile(np.linspace(130, 200, num=n), (n,1))\n",
    "ys = np.tile(np.linspace(40, 200, num=n), (n,1)).T\n",
    "zs = np.zeros_like(xs)\n",
    "for i in range(n):\n",
    "    for j in range(n):\n",
    "        x = xs[i,j]\n",
    "        y = ys[i,j]\n",
    "        zs[i,j] = model.predict([[x,y]])\n",
    "        \n",
    "        \n",
    "# zs = xs*model.coef_[0]+ys*model.coef_[1]+model.intercept_ # This would also work (for the linear model)\n",
    "\n",
    "ax.plot_surface(xs,ys,zs, alpha=0.5)\n",
    "plt.show()\n"
   ]
  },
  {
   "cell_type": "markdown",
   "metadata": {},
   "source": [
    "Lets also try to plot a k neighbors regressor, and compare their"
   ]
  },
  {
   "cell_type": "code",
   "execution_count": null,
   "metadata": {},
   "outputs": [],
   "source": [
    "fig = plt.figure()\n",
    "ax = fig.add_subplot(111, projection='3d')\n",
    "ax.scatter(X_train.iloc[:,0], X_train.iloc[:,1], y_train, marker='.', color='red')\n",
    "ax.set_xlabel(\"Heigt [kg]\")\n",
    "ax.set_ylabel(\"Weight [cm]\")\n",
    "ax.set_zlabel(\"y [index]\")\n",
    "ax.view_init(elev=20., azim=35)\n",
    "\n",
    "model = KNeighborsRegressor()\n",
    "model.fit(X_train, y_train)\n",
    "\n",
    "n = 10\n",
    "xs = np.tile(np.linspace(130, 200, num=n), (n,1))\n",
    "ys = np.tile(np.linspace(40, 200, num=n), (n,1)).T\n",
    "zs = np.zeros_like(xs)\n",
    "for i in range(n):\n",
    "    for j in range(n):\n",
    "        x = xs[i,j]\n",
    "        y = ys[i,j]\n",
    "        zs[i,j] = model.predict([[x,y]])\n",
    "                \n",
    "ax.plot_surface(xs,ys,zs, alpha=0.5)\n",
    "plt.show()\n"
   ]
  },
  {
   "cell_type": "markdown",
   "metadata": {},
   "source": []
  }
 ],
 "metadata": {
  "anaconda-cloud": {},
  "kernelspec": {
   "display_name": "Python 3",
   "language": "python",
   "name": "python3"
  },
  "language_info": {
   "codemirror_mode": {
    "name": "ipython",
    "version": 3
   },
   "file_extension": ".py",
   "mimetype": "text/x-python",
   "name": "python",
   "nbconvert_exporter": "python",
   "pygments_lexer": "ipython3",
   "version": "3.7.4"
  }
 },
 "nbformat": 4,
 "nbformat_minor": 1
}
