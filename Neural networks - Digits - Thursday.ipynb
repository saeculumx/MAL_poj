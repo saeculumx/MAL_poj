{
 "cells": [
  {
   "cell_type": "code",
   "execution_count": 1,
   "id": "b26dae0f",
   "metadata": {},
   "outputs": [],
   "source": [
    "%matplotlib inline\n",
    "\n",
    "import tensorflow as tf\n",
    "\n",
    "from sklearn.datasets import load_digits\n",
    "from sklearn.model_selection import train_test_split\n",
    "\n",
    "import matplotlib.pyplot as plt\n",
    "\n",
    "from tensorflow.keras.models import Sequential\n",
    "from tensorflow.keras.layers import Dense\n",
    "from tensorflow.keras.utils import to_categorical\n",
    "from tensorflow.keras import optimizers\n",
    "from tensorflow.keras.layers import Dropout\n",
    "from tensorflow.keras import regularizers\n",
    "\n",
    "import numpy as np\n",
    "from numpy.random import seed, randint"
   ]
  },
  {
   "cell_type": "markdown",
   "id": "87ac7ab7",
   "metadata": {},
   "source": [
    "# Getting the data"
   ]
  },
  {
   "cell_type": "code",
   "execution_count": 2,
   "id": "39c71894",
   "metadata": {},
   "outputs": [
    {
     "name": "stdout",
     "output_type": "stream",
     "text": [
      "This digit is 8\n"
     ]
    },
    {
     "data": {
      "text/plain": "<Figure size 432x288 with 1 Axes>",
      "image/png": "[encoded data removed]"
     },
     "metadata": {
      "needs_background": "light"
     },
     "output_type": "display_data"
    }
   ],
   "source": [
    "digits = load_digits()\n",
    "\n",
    "a = randint(low = 0, high = 1796)\n",
    "plt.imshow(digits.images[a])\n",
    "print(\"This digit is {}\".format(digits.target[a]))"
   ]
  },
  {
   "cell_type": "markdown",
   "id": "d46a239d",
   "metadata": {},
   "source": [
    "# Training the neural network"
   ]
  },
  {
   "cell_type": "code",
   "execution_count": 3,
   "id": "637eaea9",
   "metadata": {},
   "outputs": [],
   "source": [
    "num_classes = 10\n",
    "X = digits.data\n",
    "y = digits.target\n",
    "Y = to_categorical(y, num_classes)\n",
    "X_train, X_test, Y_train, Y_test = train_test_split(X, Y, stratify = Y)\n",
    "input_size = X[0].shape[0]"
   ]
  },
  {
   "cell_type": "code",
   "execution_count": 4,
   "id": "e794eed9",
   "metadata": {},
   "outputs": [],
   "source": [
    "seed(0)\n",
    "tf.random.set_seed(0)\n",
    "\n",
    "callback = tf.keras.callbacks.EarlyStopping(monitor = 'val_accuracy', patience = 10)\n",
    "\n",
    "model = Sequential() #initialize a neural network\n",
    "\n",
    "model.add(Dense(units = 16, activation = 'tanh', input_dim = input_size,\n",
    "                kernel_regularizer=regularizers.l2(0.001))) #add a hidden layer\n",
    "model.add(Dropout(0.2)) #dropout 20 % of the connections\n",
    "model.add(Dense(units = num_classes, activation = 'softmax')) #add the output layer\n",
    "\n",
    "sgd = optimizers.SGD(learning_rate = 0.1)\n",
    "model.compile(loss = 'categorical_crossentropy', optimizer = sgd, metrics = ['accuracy'])\n",
    "\n",
    "history = model.fit(X_train, Y_train, epochs = 200, batch_size = 50, verbose = 0, \n",
    "                    validation_split = 0.2, callbacks = [callback])"
   ]
  },
  {
   "cell_type": "code",
   "execution_count": 5,
   "id": "823bffdc",
   "metadata": {},
   "outputs": [
    {
     "data": {
      "text/plain": "<Figure size 432x288 with 1 Axes>",
      "image/png": "[encoded data removed]"
     },
     "metadata": {
      "needs_background": "light"
     },
     "output_type": "display_data"
    }
   ],
   "source": [
    "plt.figure()\n",
    "plt.title(\"Learning curves\")\n",
    "plt.xlabel(\"Epoch\")\n",
    "plt.ylabel(\"Cross entropy loss\")\n",
    "plt.plot(history.history['loss'], label = 'train')\n",
    "plt.plot(history.history['val_loss'], label = 'valid')\n",
    "plt.legend()\n",
    "plt.show()"
   ]
  },
  {
   "cell_type": "code",
   "execution_count": 6,
   "id": "8bf937d0",
   "metadata": {},
   "outputs": [
    {
     "name": "stdout",
     "output_type": "stream",
     "text": [
      "43/43 [==============================] - 0s 626us/step - loss: 0.1874 - accuracy: 0.9666\n",
      "Loss + accuracy on train data: [0.1873990148305893, 0.9665924310684204]\n",
      "15/15 [==============================] - 0s 673us/step - loss: 0.3064 - accuracy: 0.9222\n",
      "Loss + accuracy on test data: [0.3063678741455078, 0.9222221970558167]\n"
     ]
    }
   ],
   "source": [
    "print(\"Loss + accuracy on train data: {}\".format(model.evaluate(X_train, Y_train)))\n",
    "print(\"Loss + accuracy on test data: {}\".format(model.evaluate(X_test, Y_test)))"
   ]
  },
  {
   "cell_type": "markdown",
   "id": "3fc6fc96",
   "metadata": {},
   "source": [
    "# Consider misclassified digits"
   ]
  },
  {
   "cell_type": "code",
   "execution_count": 7,
   "id": "3ca110a9",
   "metadata": {},
   "outputs": [
    {
     "name": "stdout",
     "output_type": "stream",
     "text": [
      "15/15 [==============================] - 0s 567us/step\n",
      "Predictions = [6 6 6 7 0 4 9 7 9 7 2 3 0 3 2 4 6 1 4 7 2 6 2 5 0 1 3 0 3 6]\n",
      "Labels      = [6 6 6 7 0 4 9 7 9 7 2 3 0 3 2 4 6 1 4 7 2 6 5 5 0 1 3 0 3 6]\n"
     ]
    }
   ],
   "source": [
    "probabilities = np.array(model.predict(X_test))\n",
    "predictions = np.argmax(probabilities, axis = 1) #what does the model predict\n",
    "labels = np.argmax(Y_test, axis = 1) #what are the actual labels\n",
    "\n",
    "print(\"Predictions = {}\".format(predictions[0:30]))\n",
    "print(\"Labels      = {}\".format(labels[0:30]))"
   ]
  },
  {
   "cell_type": "code",
   "execution_count": 8,
   "id": "0b427657",
   "metadata": {},
   "outputs": [
    {
     "name": "stdout",
     "output_type": "stream",
     "text": [
      "This digit is 5, but classified as 2.\n"
     ]
    },
    {
     "data": {
      "text/plain": "<Figure size 432x288 with 1 Axes>",
      "image/png": "[encoded data removed]"
     },
     "metadata": {
      "needs_background": "light"
     },
     "output_type": "display_data"
    }
   ],
   "source": [
    "misclas_idxs = np.argwhere(predictions != labels)\n",
    "\n",
    "b = randint(low = 0, high = len(misclas_idxs) - 1) #choose a random index\n",
    "a = misclas_idxs[b][0] # find out what image that index is\n",
    "plt.imshow(np.reshape(X_test[a], (8,8)))\n",
    "print(\"This digit is {}, but classified as {}.\".format(labels[a], predictions[a]))"
   ]
  },
  {
   "cell_type": "code",
   "execution_count": 8,
   "id": "e8c2ffe6",
   "metadata": {},
   "outputs": [],
   "source": []
  }
 ],
 "metadata": {
  "kernelspec": {
   "display_name": "Python 3 (ipykernel)",
   "language": "python",
   "name": "python3"
  },
  "language_info": {
   "codemirror_mode": {
    "name": "ipython",
    "version": 3
   },
   "file_extension": ".py",
   "mimetype": "text/x-python",
   "name": "python",
   "nbconvert_exporter": "python",
   "pygments_lexer": "ipython3",
   "version": "3.9.12"
  }
 },
 "nbformat": 4,
 "nbformat_minor": 5
}